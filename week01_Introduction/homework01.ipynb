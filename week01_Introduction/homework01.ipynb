{
 "cells": [
  {
   "cell_type": "markdown",
   "id": "d041452f",
   "metadata": {},
   "source": [
    "# Homework\n",
    "\n",
    "The goal of this homework is to train a simple model for predicting the duration of a ride - similar to what we did in this module."
   ]
  },
  {
   "cell_type": "markdown",
   "id": "9dea18dc",
   "metadata": {},
   "source": [
    "# Q1. Downloading the data\n",
    "\n",
    "* Data link: https://www1.nyc.gov/site/tlc/about/tlc-trip-record-data.page\n",
    "* We'll use the same NYC taxi dataset, but instead of \"Green Taxi Trip Records\", we'll use \"For-Hire Vehicle Trip Records\".\n",
    "* Download the data for January and February 2021."
   ]
  },
  {
   "cell_type": "code",
   "execution_count": 1,
   "id": "f5f33e2e",
   "metadata": {},
   "outputs": [
    {
     "name": "stdout",
     "output_type": "stream",
     "text": [
      "--2022-05-20 08:30:27--  https://nyc-tlc.s3.amazonaws.com/trip+data/fhv_tripdata_2021-01.parquet\n",
      "Resolving nyc-tlc.s3.amazonaws.com (nyc-tlc.s3.amazonaws.com)... 52.216.185.235\n",
      "Connecting to nyc-tlc.s3.amazonaws.com (nyc-tlc.s3.amazonaws.com)|52.216.185.235|:443... connected.\n",
      "HTTP request sent, awaiting response... 200 OK\n",
      "Length: 11886281 (11M) [binary/octet-stream]\n",
      "Saving to: ‘../data/fhv_tripdata_2021-01.parquet.6’\n",
      "\n",
      "fhv_tripdata_2021-0 100%[===================>]  11,33M  1,19MB/s    in 8,9s    \n",
      "\n",
      "2022-05-20 08:30:37 (1,27 MB/s) - ‘../data/fhv_tripdata_2021-01.parquet.6’ saved [11886281/11886281]\n",
      "\n",
      "--2022-05-20 08:30:37--  https://nyc-tlc.s3.amazonaws.com/trip+data/fhv_tripdata_2021-02.parquet\n",
      "Resolving nyc-tlc.s3.amazonaws.com (nyc-tlc.s3.amazonaws.com)... 52.217.136.33\n",
      "Connecting to nyc-tlc.s3.amazonaws.com (nyc-tlc.s3.amazonaws.com)|52.217.136.33|:443... connected.\n",
      "HTTP request sent, awaiting response... 200 OK\n",
      "Length: 10645466 (10M) [binary/octet-stream]\n",
      "Saving to: ‘../data/fhv_tripdata_2021-02.parquet.6’\n",
      "\n",
      "fhv_tripdata_2021-0 100%[===================>]  10,15M  1,80MB/s    in 6,2s    \n",
      "\n",
      "2022-05-20 08:30:44 (1,64 MB/s) - ‘../data/fhv_tripdata_2021-02.parquet.6’ saved [10645466/10645466]\n",
      "\n"
     ]
    }
   ],
   "source": [
    "!wget https://nyc-tlc.s3.amazonaws.com/trip+data/fhv_tripdata_2021-01.parquet -P ../data\n",
    "!wget https://nyc-tlc.s3.amazonaws.com/trip+data/fhv_tripdata_2021-02.parquet -P ../data"
   ]
  },
  {
   "cell_type": "code",
   "execution_count": 2,
   "id": "a0a69b27",
   "metadata": {},
   "outputs": [],
   "source": [
    "import pandas as pd\n",
    "import matplotlib.pyplot as plt\n",
    "import seaborn as sns\n",
    "from sklearn.feature_extraction import DictVectorizer\n",
    "from sklearn.linear_model import LinearRegression\n",
    "from sklearn.metrics import mean_squared_error"
   ]
  },
  {
   "cell_type": "code",
   "execution_count": 3,
   "id": "fcec53e4",
   "metadata": {},
   "outputs": [],
   "source": [
    "df_01 = pd.read_parquet('../data/fhv_tripdata_2021-01.parquet')\n",
    "df_02 = pd.read_parquet('../data/fhv_tripdata_2021-02.parquet')"
   ]
  },
  {
   "cell_type": "code",
   "execution_count": 4,
   "id": "c6c95d4c",
   "metadata": {},
   "outputs": [
    {
     "name": "stdout",
     "output_type": "stream",
     "text": [
      "<class 'pandas.core.frame.DataFrame'>\n",
      "RangeIndex: 1154112 entries, 0 to 1154111\n",
      "Data columns (total 7 columns):\n",
      " #   Column                  Non-Null Count    Dtype         \n",
      "---  ------                  --------------    -----         \n",
      " 0   dispatching_base_num    1154112 non-null  object        \n",
      " 1   pickup_datetime         1154112 non-null  datetime64[ns]\n",
      " 2   dropOff_datetime        1154112 non-null  datetime64[ns]\n",
      " 3   PUlocationID            195845 non-null   float64       \n",
      " 4   DOlocationID            991892 non-null   float64       \n",
      " 5   SR_Flag                 0 non-null        object        \n",
      " 6   Affiliated_base_number  1153227 non-null  object        \n",
      "dtypes: datetime64[ns](2), float64(2), object(3)\n",
      "memory usage: 61.6+ MB\n"
     ]
    }
   ],
   "source": [
    "df_01.info()"
   ]
  },
  {
   "cell_type": "markdown",
   "id": "9e7d8087",
   "metadata": {},
   "source": [
    "**Answer:** The January file has 1154112 entries."
   ]
  },
  {
   "cell_type": "markdown",
   "id": "58f357ad",
   "metadata": {},
   "source": [
    "# Q2. Computing duration\n",
    "Now let's compute the duration variable. It should contain the duration of a ride in minutes.\n",
    "\n",
    "What's the average trip duration in January?"
   ]
  },
  {
   "cell_type": "code",
   "execution_count": 5,
   "id": "1d9fce93",
   "metadata": {},
   "outputs": [
    {
     "data": {
      "text/html": [
       "<div>\n",
       "<style scoped>\n",
       "    .dataframe tbody tr th:only-of-type {\n",
       "        vertical-align: middle;\n",
       "    }\n",
       "\n",
       "    .dataframe tbody tr th {\n",
       "        vertical-align: top;\n",
       "    }\n",
       "\n",
       "    .dataframe thead th {\n",
       "        text-align: right;\n",
       "    }\n",
       "</style>\n",
       "<table border=\"1\" class=\"dataframe\">\n",
       "  <thead>\n",
       "    <tr style=\"text-align: right;\">\n",
       "      <th></th>\n",
       "      <th>dispatching_base_num</th>\n",
       "      <th>pickup_datetime</th>\n",
       "      <th>dropOff_datetime</th>\n",
       "      <th>PUlocationID</th>\n",
       "      <th>DOlocationID</th>\n",
       "      <th>SR_Flag</th>\n",
       "      <th>Affiliated_base_number</th>\n",
       "      <th>duration</th>\n",
       "    </tr>\n",
       "  </thead>\n",
       "  <tbody>\n",
       "    <tr>\n",
       "      <th>0</th>\n",
       "      <td>B00009</td>\n",
       "      <td>2021-01-01 00:27:00</td>\n",
       "      <td>2021-01-01 00:44:00</td>\n",
       "      <td>NaN</td>\n",
       "      <td>NaN</td>\n",
       "      <td>None</td>\n",
       "      <td>B00009</td>\n",
       "      <td>17.000000</td>\n",
       "    </tr>\n",
       "    <tr>\n",
       "      <th>1</th>\n",
       "      <td>B00009</td>\n",
       "      <td>2021-01-01 00:50:00</td>\n",
       "      <td>2021-01-01 01:07:00</td>\n",
       "      <td>NaN</td>\n",
       "      <td>NaN</td>\n",
       "      <td>None</td>\n",
       "      <td>B00009</td>\n",
       "      <td>17.000000</td>\n",
       "    </tr>\n",
       "    <tr>\n",
       "      <th>2</th>\n",
       "      <td>B00013</td>\n",
       "      <td>2021-01-01 00:01:00</td>\n",
       "      <td>2021-01-01 01:51:00</td>\n",
       "      <td>NaN</td>\n",
       "      <td>NaN</td>\n",
       "      <td>None</td>\n",
       "      <td>B00013</td>\n",
       "      <td>110.000000</td>\n",
       "    </tr>\n",
       "    <tr>\n",
       "      <th>3</th>\n",
       "      <td>B00037</td>\n",
       "      <td>2021-01-01 00:13:09</td>\n",
       "      <td>2021-01-01 00:21:26</td>\n",
       "      <td>NaN</td>\n",
       "      <td>72.0</td>\n",
       "      <td>None</td>\n",
       "      <td>B00037</td>\n",
       "      <td>8.283333</td>\n",
       "    </tr>\n",
       "    <tr>\n",
       "      <th>4</th>\n",
       "      <td>B00037</td>\n",
       "      <td>2021-01-01 00:38:31</td>\n",
       "      <td>2021-01-01 00:53:44</td>\n",
       "      <td>NaN</td>\n",
       "      <td>61.0</td>\n",
       "      <td>None</td>\n",
       "      <td>B00037</td>\n",
       "      <td>15.216667</td>\n",
       "    </tr>\n",
       "  </tbody>\n",
       "</table>\n",
       "</div>"
      ],
      "text/plain": [
       "  dispatching_base_num     pickup_datetime    dropOff_datetime  PUlocationID  \\\n",
       "0               B00009 2021-01-01 00:27:00 2021-01-01 00:44:00           NaN   \n",
       "1               B00009 2021-01-01 00:50:00 2021-01-01 01:07:00           NaN   \n",
       "2               B00013 2021-01-01 00:01:00 2021-01-01 01:51:00           NaN   \n",
       "3               B00037 2021-01-01 00:13:09 2021-01-01 00:21:26           NaN   \n",
       "4               B00037 2021-01-01 00:38:31 2021-01-01 00:53:44           NaN   \n",
       "\n",
       "   DOlocationID SR_Flag Affiliated_base_number    duration  \n",
       "0           NaN    None                 B00009   17.000000  \n",
       "1           NaN    None                 B00009   17.000000  \n",
       "2           NaN    None                 B00013  110.000000  \n",
       "3          72.0    None                 B00037    8.283333  \n",
       "4          61.0    None                 B00037   15.216667  "
      ]
     },
     "execution_count": 5,
     "metadata": {},
     "output_type": "execute_result"
    }
   ],
   "source": [
    "df_01['duration'] = df_01.dropOff_datetime - df_01.pickup_datetime\n",
    "df_01.duration = df_01.duration.apply(lambda td: td.total_seconds()/60)\n",
    "df_01.head()"
   ]
  },
  {
   "cell_type": "code",
   "execution_count": 6,
   "id": "ffae2040",
   "metadata": {},
   "outputs": [
    {
     "data": {
      "text/html": [
       "<div>\n",
       "<style scoped>\n",
       "    .dataframe tbody tr th:only-of-type {\n",
       "        vertical-align: middle;\n",
       "    }\n",
       "\n",
       "    .dataframe tbody tr th {\n",
       "        vertical-align: top;\n",
       "    }\n",
       "\n",
       "    .dataframe thead th {\n",
       "        text-align: right;\n",
       "    }\n",
       "</style>\n",
       "<table border=\"1\" class=\"dataframe\">\n",
       "  <thead>\n",
       "    <tr style=\"text-align: right;\">\n",
       "      <th></th>\n",
       "      <th>dispatching_base_num</th>\n",
       "      <th>pickup_datetime</th>\n",
       "      <th>dropOff_datetime</th>\n",
       "      <th>PUlocationID</th>\n",
       "      <th>DOlocationID</th>\n",
       "      <th>SR_Flag</th>\n",
       "      <th>Affiliated_base_number</th>\n",
       "      <th>duration</th>\n",
       "    </tr>\n",
       "  </thead>\n",
       "  <tbody>\n",
       "    <tr>\n",
       "      <th>0</th>\n",
       "      <td>B00013</td>\n",
       "      <td>2021-02-01 00:01:00</td>\n",
       "      <td>2021-02-01 01:33:00</td>\n",
       "      <td>NaN</td>\n",
       "      <td>NaN</td>\n",
       "      <td>None</td>\n",
       "      <td>B00014</td>\n",
       "      <td>92.000000</td>\n",
       "    </tr>\n",
       "    <tr>\n",
       "      <th>1</th>\n",
       "      <td>B00021</td>\n",
       "      <td>2021-02-01 00:55:40</td>\n",
       "      <td>2021-02-01 01:06:20</td>\n",
       "      <td>173.0</td>\n",
       "      <td>82.0</td>\n",
       "      <td>None</td>\n",
       "      <td>B00021</td>\n",
       "      <td>10.666667</td>\n",
       "    </tr>\n",
       "    <tr>\n",
       "      <th>2</th>\n",
       "      <td>B00021</td>\n",
       "      <td>2021-02-01 00:14:03</td>\n",
       "      <td>2021-02-01 00:28:37</td>\n",
       "      <td>173.0</td>\n",
       "      <td>56.0</td>\n",
       "      <td>None</td>\n",
       "      <td>B00021</td>\n",
       "      <td>14.566667</td>\n",
       "    </tr>\n",
       "    <tr>\n",
       "      <th>3</th>\n",
       "      <td>B00021</td>\n",
       "      <td>2021-02-01 00:27:48</td>\n",
       "      <td>2021-02-01 00:35:45</td>\n",
       "      <td>82.0</td>\n",
       "      <td>129.0</td>\n",
       "      <td>None</td>\n",
       "      <td>B00021</td>\n",
       "      <td>7.950000</td>\n",
       "    </tr>\n",
       "    <tr>\n",
       "      <th>4</th>\n",
       "      <td>B00037</td>\n",
       "      <td>2021-02-01 00:12:50</td>\n",
       "      <td>2021-02-01 00:26:38</td>\n",
       "      <td>NaN</td>\n",
       "      <td>225.0</td>\n",
       "      <td>None</td>\n",
       "      <td>B00037</td>\n",
       "      <td>13.800000</td>\n",
       "    </tr>\n",
       "  </tbody>\n",
       "</table>\n",
       "</div>"
      ],
      "text/plain": [
       "  dispatching_base_num     pickup_datetime    dropOff_datetime  PUlocationID  \\\n",
       "0               B00013 2021-02-01 00:01:00 2021-02-01 01:33:00           NaN   \n",
       "1      B00021          2021-02-01 00:55:40 2021-02-01 01:06:20         173.0   \n",
       "2      B00021          2021-02-01 00:14:03 2021-02-01 00:28:37         173.0   \n",
       "3      B00021          2021-02-01 00:27:48 2021-02-01 00:35:45          82.0   \n",
       "4               B00037 2021-02-01 00:12:50 2021-02-01 00:26:38           NaN   \n",
       "\n",
       "   DOlocationID SR_Flag Affiliated_base_number   duration  \n",
       "0           NaN    None                 B00014  92.000000  \n",
       "1          82.0    None        B00021           10.666667  \n",
       "2          56.0    None        B00021           14.566667  \n",
       "3         129.0    None        B00021            7.950000  \n",
       "4         225.0    None                 B00037  13.800000  "
      ]
     },
     "execution_count": 6,
     "metadata": {},
     "output_type": "execute_result"
    }
   ],
   "source": [
    "df_02['duration'] = df_02.dropOff_datetime - df_02.pickup_datetime\n",
    "df_02.duration = df_02.duration.apply(lambda td: td.total_seconds()/60)\n",
    "df_02.head()"
   ]
  },
  {
   "cell_type": "code",
   "execution_count": 7,
   "id": "7208b9b6",
   "metadata": {},
   "outputs": [
    {
     "data": {
      "text/plain": [
       "19.1672240937939"
      ]
     },
     "execution_count": 7,
     "metadata": {},
     "output_type": "execute_result"
    }
   ],
   "source": [
    "df_01['duration'].mean()"
   ]
  },
  {
   "cell_type": "markdown",
   "id": "527e3533",
   "metadata": {},
   "source": [
    "**Answer:** The mean duration of a trip in January is 19.16min."
   ]
  },
  {
   "cell_type": "markdown",
   "id": "6b6ab0c9",
   "metadata": {},
   "source": [
    "# Data preparation\n",
    "Check the distribution of the duration variable. There are some outliers.\n",
    "\n",
    "Let's remove them and keep only the records where the duration was between 1 and 60 minutes (inclusive).\n",
    "\n",
    "How many records did you drop?"
   ]
  },
  {
   "cell_type": "code",
   "execution_count": 8,
   "id": "897e2d38",
   "metadata": {},
   "outputs": [
    {
     "data": {
      "text/plain": [
       "(423371.05, 0.016666666666666666)"
      ]
     },
     "execution_count": 8,
     "metadata": {},
     "output_type": "execute_result"
    }
   ],
   "source": [
    "df_01['duration'].max(), df_01['duration'].min()"
   ]
  },
  {
   "cell_type": "code",
   "execution_count": 9,
   "id": "58e60e64",
   "metadata": {
    "scrolled": false
   },
   "outputs": [
    {
     "name": "stderr",
     "output_type": "stream",
     "text": [
      "/home/frauke/anaconda3/envs/ml-zoomcamp/lib/python3.9/site-packages/seaborn/distributions.py:2619: FutureWarning: `distplot` is a deprecated function and will be removed in a future version. Please adapt your code to use either `displot` (a figure-level function with similar flexibility) or `histplot` (an axes-level function for histograms).\n",
      "  warnings.warn(msg, FutureWarning)\n"
     ]
    },
    {
     "data": {
      "text/plain": [
       "<AxesSubplot:xlabel='duration', ylabel='Density'>"
      ]
     },
     "execution_count": 9,
     "metadata": {},
     "output_type": "execute_result"
    },
    {
     "data": {
      "image/png": "[encoded data removed]",
      "text/plain": [
       "<Figure size 432x288 with 1 Axes>"
      ]
     },
     "metadata": {
      "needs_background": "light"
     },
     "output_type": "display_data"
    }
   ],
   "source": [
    "sns.distplot(df_01['duration'])"
   ]
  },
  {
   "cell_type": "markdown",
   "id": "b672f1fc",
   "metadata": {},
   "source": [
    "* remove all values smaller than 1 min and bigger than 60 min. "
   ]
  },
  {
   "cell_type": "code",
   "execution_count": 17,
   "id": "13d89518",
   "metadata": {},
   "outputs": [],
   "source": [
    "df_01 = df_01[(df_01['duration']>=1) & (df_01['duration']<=60)]\n",
    "df_02 = df_02[(df_02['duration']>=1) & (df_02['duration']<=60)]"
   ]
  },
  {
   "cell_type": "code",
   "execution_count": 18,
   "id": "80062b39",
   "metadata": {},
   "outputs": [
    {
     "name": "stderr",
     "output_type": "stream",
     "text": [
      "/home/frauke/anaconda3/envs/ml-zoomcamp/lib/python3.9/site-packages/seaborn/distributions.py:2619: FutureWarning: `distplot` is a deprecated function and will be removed in a future version. Please adapt your code to use either `displot` (a figure-level function with similar flexibility) or `histplot` (an axes-level function for histograms).\n",
      "  warnings.warn(msg, FutureWarning)\n"
     ]
    },
    {
     "data": {
      "image/png": "[encoded data removed]",
      "text/plain": [
       "<Figure size 432x288 with 1 Axes>"
      ]
     },
     "metadata": {
      "needs_background": "light"
     },
     "output_type": "display_data"
    }
   ],
   "source": [
    "sns.distplot(df_01['duration']);"
   ]
  },
  {
   "cell_type": "code",
   "execution_count": 19,
   "id": "f343a751",
   "metadata": {},
   "outputs": [
    {
     "name": "stdout",
     "output_type": "stream",
     "text": [
      "<class 'pandas.core.frame.DataFrame'>\n",
      "Int64Index: 1109826 entries, 0 to 1154111\n",
      "Data columns (total 8 columns):\n",
      " #   Column                  Non-Null Count    Dtype         \n",
      "---  ------                  --------------    -----         \n",
      " 0   dispatching_base_num    1109826 non-null  object        \n",
      " 1   pickup_datetime         1109826 non-null  datetime64[ns]\n",
      " 2   dropOff_datetime        1109826 non-null  datetime64[ns]\n",
      " 3   PUlocationID            1109826 non-null  float64       \n",
      " 4   DOlocationID            1109826 non-null  float64       \n",
      " 5   SR_Flag                 0 non-null        object        \n",
      " 6   Affiliated_base_number  1109053 non-null  object        \n",
      " 7   duration                1109826 non-null  float64       \n",
      "dtypes: datetime64[ns](2), float64(3), object(3)\n",
      "memory usage: 76.2+ MB\n"
     ]
    }
   ],
   "source": [
    "df_01.info()"
   ]
  },
  {
   "cell_type": "markdown",
   "id": "d9b36784",
   "metadata": {},
   "source": [
    "1109826 values are left. That is we dropped 44286 values."
   ]
  },
  {
   "cell_type": "code",
   "execution_count": 20,
   "id": "260c6e08",
   "metadata": {},
   "outputs": [
    {
     "data": {
      "text/plain": [
       "44286"
      ]
     },
     "execution_count": 20,
     "metadata": {},
     "output_type": "execute_result"
    }
   ],
   "source": [
    "1154112-1109826"
   ]
  },
  {
   "cell_type": "markdown",
   "id": "897f33bd",
   "metadata": {},
   "source": [
    "# Q3. Missing values\n",
    "The features we'll use for our model are the pickup and dropoff location IDs.\n",
    "\n",
    "But they have a lot of missing values there. Let's replace them with \"-1\".\n",
    "\n",
    "What's the fractions of missing values for the pickup location ID? I.e. fraction of \"-1\"s after you filled the NAs."
   ]
  },
  {
   "cell_type": "code",
   "execution_count": 21,
   "id": "a4140a0d",
   "metadata": {},
   "outputs": [],
   "source": [
    "df_01['PUlocationID'] = df_01['PUlocationID'].fillna(-1)\n",
    "df_01['DOlocationID'] = df_01['DOlocationID'].fillna(-1)\n",
    "df_02['PUlocationID'] = df_02['PUlocationID'].fillna(-1)\n",
    "df_02['DOlocationID'] = df_02['DOlocationID'].fillna(-1)"
   ]
  },
  {
   "cell_type": "code",
   "execution_count": 22,
   "id": "f5ddc25f",
   "metadata": {},
   "outputs": [
    {
     "data": {
      "text/plain": [
       "927008"
      ]
     },
     "execution_count": 22,
     "metadata": {},
     "output_type": "execute_result"
    }
   ],
   "source": [
    "(df_01['PUlocationID']==-1).sum()"
   ]
  },
  {
   "cell_type": "code",
   "execution_count": 23,
   "id": "feac814b",
   "metadata": {},
   "outputs": [
    {
     "data": {
      "text/plain": [
       "0.8352732770722617"
      ]
     },
     "execution_count": 23,
     "metadata": {},
     "output_type": "execute_result"
    }
   ],
   "source": [
    "(df_01['PUlocationID']==-1).sum()/len(df_01)"
   ]
  },
  {
   "cell_type": "markdown",
   "id": "3425912b",
   "metadata": {},
   "source": [
    "**Answer:** 83% of the PULocation Ids are NaN."
   ]
  },
  {
   "cell_type": "markdown",
   "id": "0aab55e3",
   "metadata": {},
   "source": [
    "# Q4. One-hot encoding\n",
    "Let's apply one-hot encoding to the pickup and dropoff location IDs. We'll use only these two features for our model.\n",
    "\n",
    "* Turn the dataframe into a list of dictionaries\n",
    "* Fit a dictionary vectorizer\n",
    "* Get a feature matrix from it\n",
    "\n",
    "What's the dimensionality of this matrix? (The number of columns)."
   ]
  },
  {
   "cell_type": "code",
   "execution_count": 24,
   "id": "2596a6ca",
   "metadata": {},
   "outputs": [
    {
     "name": "stdout",
     "output_type": "stream",
     "text": [
      "<class 'pandas.core.frame.DataFrame'>\n",
      "Int64Index: 1109826 entries, 0 to 1154111\n",
      "Data columns (total 8 columns):\n",
      " #   Column                  Non-Null Count    Dtype         \n",
      "---  ------                  --------------    -----         \n",
      " 0   dispatching_base_num    1109826 non-null  object        \n",
      " 1   pickup_datetime         1109826 non-null  datetime64[ns]\n",
      " 2   dropOff_datetime        1109826 non-null  datetime64[ns]\n",
      " 3   PUlocationID            1109826 non-null  float64       \n",
      " 4   DOlocationID            1109826 non-null  float64       \n",
      " 5   SR_Flag                 0 non-null        object        \n",
      " 6   Affiliated_base_number  1109053 non-null  object        \n",
      " 7   duration                1109826 non-null  float64       \n",
      "dtypes: datetime64[ns](2), float64(3), object(3)\n",
      "memory usage: 76.2+ MB\n"
     ]
    }
   ],
   "source": [
    "df_01.info()"
   ]
  },
  {
   "cell_type": "markdown",
   "id": "db61fe01",
   "metadata": {},
   "source": [
    "* Change the type of ```'PUlocationID', 'DOlocationID'``` to string"
   ]
  },
  {
   "cell_type": "code",
   "execution_count": 25,
   "id": "47c39906",
   "metadata": {},
   "outputs": [],
   "source": [
    "df_01[['PUlocationID', 'DOlocationID']] = df_01[['PUlocationID', 'DOlocationID']].astype(str)"
   ]
  },
  {
   "cell_type": "code",
   "execution_count": 26,
   "id": "adf5d8a9",
   "metadata": {},
   "outputs": [],
   "source": [
    "dv = DictVectorizer()\n",
    "\n",
    "categorical = ['PUlocationID', 'DOlocationID']\n",
    "train_dicts = df_01[categorical].to_dict(orient='records')\n",
    "X_train = dv.fit_transform(train_dicts)\n",
    "\n",
    "val_dicts = df_02[categorical].to_dict(orient='records')\n",
    "X_val = dv.transform(val_dicts)"
   ]
  },
  {
   "cell_type": "code",
   "execution_count": 27,
   "id": "922cd705",
   "metadata": {},
   "outputs": [
    {
     "data": {
      "text/plain": [
       "['DOlocationID=-1.0',\n",
       " 'DOlocationID=1.0',\n",
       " 'DOlocationID=10.0',\n",
       " 'DOlocationID=100.0',\n",
       " 'DOlocationID=101.0',\n",
       " 'DOlocationID=102.0',\n",
       " 'DOlocationID=105.0',\n",
       " 'DOlocationID=106.0',\n",
       " 'DOlocationID=107.0',\n",
       " 'DOlocationID=108.0',\n",
       " 'DOlocationID=109.0',\n",
       " 'DOlocationID=11.0',\n",
       " 'DOlocationID=111.0',\n",
       " 'DOlocationID=112.0',\n",
       " 'DOlocationID=113.0',\n",
       " 'DOlocationID=114.0',\n",
       " 'DOlocationID=115.0',\n",
       " 'DOlocationID=116.0',\n",
       " 'DOlocationID=117.0',\n",
       " 'DOlocationID=118.0',\n",
       " 'DOlocationID=119.0',\n",
       " 'DOlocationID=12.0',\n",
       " 'DOlocationID=120.0',\n",
       " 'DOlocationID=121.0',\n",
       " 'DOlocationID=122.0',\n",
       " 'DOlocationID=123.0',\n",
       " 'DOlocationID=124.0',\n",
       " 'DOlocationID=125.0',\n",
       " 'DOlocationID=126.0',\n",
       " 'DOlocationID=127.0',\n",
       " 'DOlocationID=128.0',\n",
       " 'DOlocationID=129.0',\n",
       " 'DOlocationID=13.0',\n",
       " 'DOlocationID=130.0',\n",
       " 'DOlocationID=131.0',\n",
       " 'DOlocationID=132.0',\n",
       " 'DOlocationID=133.0',\n",
       " 'DOlocationID=134.0',\n",
       " 'DOlocationID=135.0',\n",
       " 'DOlocationID=136.0',\n",
       " 'DOlocationID=137.0',\n",
       " 'DOlocationID=138.0',\n",
       " 'DOlocationID=139.0',\n",
       " 'DOlocationID=14.0',\n",
       " 'DOlocationID=140.0',\n",
       " 'DOlocationID=141.0',\n",
       " 'DOlocationID=142.0',\n",
       " 'DOlocationID=143.0',\n",
       " 'DOlocationID=144.0',\n",
       " 'DOlocationID=145.0',\n",
       " 'DOlocationID=146.0',\n",
       " 'DOlocationID=147.0',\n",
       " 'DOlocationID=148.0',\n",
       " 'DOlocationID=149.0',\n",
       " 'DOlocationID=15.0',\n",
       " 'DOlocationID=150.0',\n",
       " 'DOlocationID=151.0',\n",
       " 'DOlocationID=152.0',\n",
       " 'DOlocationID=153.0',\n",
       " 'DOlocationID=154.0',\n",
       " 'DOlocationID=155.0',\n",
       " 'DOlocationID=156.0',\n",
       " 'DOlocationID=157.0',\n",
       " 'DOlocationID=158.0',\n",
       " 'DOlocationID=159.0',\n",
       " 'DOlocationID=16.0',\n",
       " 'DOlocationID=160.0',\n",
       " 'DOlocationID=161.0',\n",
       " 'DOlocationID=162.0',\n",
       " 'DOlocationID=163.0',\n",
       " 'DOlocationID=164.0',\n",
       " 'DOlocationID=165.0',\n",
       " 'DOlocationID=166.0',\n",
       " 'DOlocationID=167.0',\n",
       " 'DOlocationID=168.0',\n",
       " 'DOlocationID=169.0',\n",
       " 'DOlocationID=17.0',\n",
       " 'DOlocationID=170.0',\n",
       " 'DOlocationID=171.0',\n",
       " 'DOlocationID=172.0',\n",
       " 'DOlocationID=173.0',\n",
       " 'DOlocationID=174.0',\n",
       " 'DOlocationID=175.0',\n",
       " 'DOlocationID=176.0',\n",
       " 'DOlocationID=177.0',\n",
       " 'DOlocationID=178.0',\n",
       " 'DOlocationID=179.0',\n",
       " 'DOlocationID=18.0',\n",
       " 'DOlocationID=180.0',\n",
       " 'DOlocationID=181.0',\n",
       " 'DOlocationID=182.0',\n",
       " 'DOlocationID=183.0',\n",
       " 'DOlocationID=184.0',\n",
       " 'DOlocationID=185.0',\n",
       " 'DOlocationID=186.0',\n",
       " 'DOlocationID=187.0',\n",
       " 'DOlocationID=188.0',\n",
       " 'DOlocationID=189.0',\n",
       " 'DOlocationID=19.0',\n",
       " 'DOlocationID=190.0',\n",
       " 'DOlocationID=191.0',\n",
       " 'DOlocationID=192.0',\n",
       " 'DOlocationID=193.0',\n",
       " 'DOlocationID=194.0',\n",
       " 'DOlocationID=195.0',\n",
       " 'DOlocationID=196.0',\n",
       " 'DOlocationID=197.0',\n",
       " 'DOlocationID=198.0',\n",
       " 'DOlocationID=199.0',\n",
       " 'DOlocationID=2.0',\n",
       " 'DOlocationID=20.0',\n",
       " 'DOlocationID=200.0',\n",
       " 'DOlocationID=201.0',\n",
       " 'DOlocationID=202.0',\n",
       " 'DOlocationID=203.0',\n",
       " 'DOlocationID=204.0',\n",
       " 'DOlocationID=205.0',\n",
       " 'DOlocationID=206.0',\n",
       " 'DOlocationID=207.0',\n",
       " 'DOlocationID=208.0',\n",
       " 'DOlocationID=209.0',\n",
       " 'DOlocationID=21.0',\n",
       " 'DOlocationID=210.0',\n",
       " 'DOlocationID=211.0',\n",
       " 'DOlocationID=212.0',\n",
       " 'DOlocationID=213.0',\n",
       " 'DOlocationID=214.0',\n",
       " 'DOlocationID=215.0',\n",
       " 'DOlocationID=216.0',\n",
       " 'DOlocationID=217.0',\n",
       " 'DOlocationID=218.0',\n",
       " 'DOlocationID=219.0',\n",
       " 'DOlocationID=22.0',\n",
       " 'DOlocationID=220.0',\n",
       " 'DOlocationID=221.0',\n",
       " 'DOlocationID=222.0',\n",
       " 'DOlocationID=223.0',\n",
       " 'DOlocationID=224.0',\n",
       " 'DOlocationID=225.0',\n",
       " 'DOlocationID=226.0',\n",
       " 'DOlocationID=227.0',\n",
       " 'DOlocationID=228.0',\n",
       " 'DOlocationID=229.0',\n",
       " 'DOlocationID=23.0',\n",
       " 'DOlocationID=230.0',\n",
       " 'DOlocationID=231.0',\n",
       " 'DOlocationID=232.0',\n",
       " 'DOlocationID=233.0',\n",
       " 'DOlocationID=234.0',\n",
       " 'DOlocationID=235.0',\n",
       " 'DOlocationID=236.0',\n",
       " 'DOlocationID=237.0',\n",
       " 'DOlocationID=238.0',\n",
       " 'DOlocationID=239.0',\n",
       " 'DOlocationID=24.0',\n",
       " 'DOlocationID=240.0',\n",
       " 'DOlocationID=241.0',\n",
       " 'DOlocationID=242.0',\n",
       " 'DOlocationID=243.0',\n",
       " 'DOlocationID=244.0',\n",
       " 'DOlocationID=245.0',\n",
       " 'DOlocationID=246.0',\n",
       " 'DOlocationID=247.0',\n",
       " 'DOlocationID=248.0',\n",
       " 'DOlocationID=249.0',\n",
       " 'DOlocationID=25.0',\n",
       " 'DOlocationID=250.0',\n",
       " 'DOlocationID=251.0',\n",
       " 'DOlocationID=252.0',\n",
       " 'DOlocationID=253.0',\n",
       " 'DOlocationID=254.0',\n",
       " 'DOlocationID=255.0',\n",
       " 'DOlocationID=256.0',\n",
       " 'DOlocationID=257.0',\n",
       " 'DOlocationID=258.0',\n",
       " 'DOlocationID=259.0',\n",
       " 'DOlocationID=26.0',\n",
       " 'DOlocationID=260.0',\n",
       " 'DOlocationID=261.0',\n",
       " 'DOlocationID=262.0',\n",
       " 'DOlocationID=263.0',\n",
       " 'DOlocationID=264.0',\n",
       " 'DOlocationID=265.0',\n",
       " 'DOlocationID=27.0',\n",
       " 'DOlocationID=28.0',\n",
       " 'DOlocationID=29.0',\n",
       " 'DOlocationID=3.0',\n",
       " 'DOlocationID=30.0',\n",
       " 'DOlocationID=31.0',\n",
       " 'DOlocationID=32.0',\n",
       " 'DOlocationID=33.0',\n",
       " 'DOlocationID=34.0',\n",
       " 'DOlocationID=35.0',\n",
       " 'DOlocationID=36.0',\n",
       " 'DOlocationID=37.0',\n",
       " 'DOlocationID=38.0',\n",
       " 'DOlocationID=39.0',\n",
       " 'DOlocationID=4.0',\n",
       " 'DOlocationID=40.0',\n",
       " 'DOlocationID=41.0',\n",
       " 'DOlocationID=42.0',\n",
       " 'DOlocationID=43.0',\n",
       " 'DOlocationID=44.0',\n",
       " 'DOlocationID=45.0',\n",
       " 'DOlocationID=46.0',\n",
       " 'DOlocationID=47.0',\n",
       " 'DOlocationID=48.0',\n",
       " 'DOlocationID=49.0',\n",
       " 'DOlocationID=5.0',\n",
       " 'DOlocationID=50.0',\n",
       " 'DOlocationID=51.0',\n",
       " 'DOlocationID=52.0',\n",
       " 'DOlocationID=53.0',\n",
       " 'DOlocationID=54.0',\n",
       " 'DOlocationID=55.0',\n",
       " 'DOlocationID=56.0',\n",
       " 'DOlocationID=57.0',\n",
       " 'DOlocationID=58.0',\n",
       " 'DOlocationID=59.0',\n",
       " 'DOlocationID=6.0',\n",
       " 'DOlocationID=60.0',\n",
       " 'DOlocationID=61.0',\n",
       " 'DOlocationID=62.0',\n",
       " 'DOlocationID=63.0',\n",
       " 'DOlocationID=64.0',\n",
       " 'DOlocationID=65.0',\n",
       " 'DOlocationID=66.0',\n",
       " 'DOlocationID=67.0',\n",
       " 'DOlocationID=68.0',\n",
       " 'DOlocationID=69.0',\n",
       " 'DOlocationID=7.0',\n",
       " 'DOlocationID=70.0',\n",
       " 'DOlocationID=71.0',\n",
       " 'DOlocationID=72.0',\n",
       " 'DOlocationID=73.0',\n",
       " 'DOlocationID=74.0',\n",
       " 'DOlocationID=75.0',\n",
       " 'DOlocationID=76.0',\n",
       " 'DOlocationID=77.0',\n",
       " 'DOlocationID=78.0',\n",
       " 'DOlocationID=79.0',\n",
       " 'DOlocationID=8.0',\n",
       " 'DOlocationID=80.0',\n",
       " 'DOlocationID=81.0',\n",
       " 'DOlocationID=82.0',\n",
       " 'DOlocationID=83.0',\n",
       " 'DOlocationID=84.0',\n",
       " 'DOlocationID=85.0',\n",
       " 'DOlocationID=86.0',\n",
       " 'DOlocationID=87.0',\n",
       " 'DOlocationID=88.0',\n",
       " 'DOlocationID=89.0',\n",
       " 'DOlocationID=9.0',\n",
       " 'DOlocationID=90.0',\n",
       " 'DOlocationID=91.0',\n",
       " 'DOlocationID=92.0',\n",
       " 'DOlocationID=93.0',\n",
       " 'DOlocationID=94.0',\n",
       " 'DOlocationID=95.0',\n",
       " 'DOlocationID=96.0',\n",
       " 'DOlocationID=97.0',\n",
       " 'DOlocationID=98.0',\n",
       " 'DOlocationID=99.0',\n",
       " 'PUlocationID=-1.0',\n",
       " 'PUlocationID=1.0',\n",
       " 'PUlocationID=10.0',\n",
       " 'PUlocationID=100.0',\n",
       " 'PUlocationID=101.0',\n",
       " 'PUlocationID=102.0',\n",
       " 'PUlocationID=106.0',\n",
       " 'PUlocationID=107.0',\n",
       " 'PUlocationID=108.0',\n",
       " 'PUlocationID=109.0',\n",
       " 'PUlocationID=11.0',\n",
       " 'PUlocationID=110.0',\n",
       " 'PUlocationID=111.0',\n",
       " 'PUlocationID=112.0',\n",
       " 'PUlocationID=113.0',\n",
       " 'PUlocationID=114.0',\n",
       " 'PUlocationID=115.0',\n",
       " 'PUlocationID=116.0',\n",
       " 'PUlocationID=117.0',\n",
       " 'PUlocationID=118.0',\n",
       " 'PUlocationID=119.0',\n",
       " 'PUlocationID=12.0',\n",
       " 'PUlocationID=120.0',\n",
       " 'PUlocationID=121.0',\n",
       " 'PUlocationID=122.0',\n",
       " 'PUlocationID=123.0',\n",
       " 'PUlocationID=124.0',\n",
       " 'PUlocationID=125.0',\n",
       " 'PUlocationID=126.0',\n",
       " 'PUlocationID=127.0',\n",
       " 'PUlocationID=128.0',\n",
       " 'PUlocationID=129.0',\n",
       " 'PUlocationID=13.0',\n",
       " 'PUlocationID=130.0',\n",
       " 'PUlocationID=131.0',\n",
       " 'PUlocationID=132.0',\n",
       " 'PUlocationID=133.0',\n",
       " 'PUlocationID=134.0',\n",
       " 'PUlocationID=135.0',\n",
       " 'PUlocationID=136.0',\n",
       " 'PUlocationID=137.0',\n",
       " 'PUlocationID=138.0',\n",
       " 'PUlocationID=139.0',\n",
       " 'PUlocationID=14.0',\n",
       " 'PUlocationID=140.0',\n",
       " 'PUlocationID=141.0',\n",
       " 'PUlocationID=142.0',\n",
       " 'PUlocationID=143.0',\n",
       " 'PUlocationID=144.0',\n",
       " 'PUlocationID=145.0',\n",
       " 'PUlocationID=146.0',\n",
       " 'PUlocationID=147.0',\n",
       " 'PUlocationID=148.0',\n",
       " 'PUlocationID=149.0',\n",
       " 'PUlocationID=15.0',\n",
       " 'PUlocationID=150.0',\n",
       " 'PUlocationID=151.0',\n",
       " 'PUlocationID=152.0',\n",
       " 'PUlocationID=153.0',\n",
       " 'PUlocationID=154.0',\n",
       " 'PUlocationID=155.0',\n",
       " 'PUlocationID=156.0',\n",
       " 'PUlocationID=157.0',\n",
       " 'PUlocationID=158.0',\n",
       " 'PUlocationID=159.0',\n",
       " 'PUlocationID=16.0',\n",
       " 'PUlocationID=160.0',\n",
       " 'PUlocationID=161.0',\n",
       " 'PUlocationID=162.0',\n",
       " 'PUlocationID=163.0',\n",
       " 'PUlocationID=164.0',\n",
       " 'PUlocationID=165.0',\n",
       " 'PUlocationID=166.0',\n",
       " 'PUlocationID=167.0',\n",
       " 'PUlocationID=168.0',\n",
       " 'PUlocationID=169.0',\n",
       " 'PUlocationID=17.0',\n",
       " 'PUlocationID=170.0',\n",
       " 'PUlocationID=171.0',\n",
       " 'PUlocationID=172.0',\n",
       " 'PUlocationID=173.0',\n",
       " 'PUlocationID=174.0',\n",
       " 'PUlocationID=175.0',\n",
       " 'PUlocationID=176.0',\n",
       " 'PUlocationID=177.0',\n",
       " 'PUlocationID=178.0',\n",
       " 'PUlocationID=179.0',\n",
       " 'PUlocationID=18.0',\n",
       " 'PUlocationID=180.0',\n",
       " 'PUlocationID=181.0',\n",
       " 'PUlocationID=182.0',\n",
       " 'PUlocationID=183.0',\n",
       " 'PUlocationID=184.0',\n",
       " 'PUlocationID=185.0',\n",
       " 'PUlocationID=186.0',\n",
       " 'PUlocationID=187.0',\n",
       " 'PUlocationID=188.0',\n",
       " 'PUlocationID=189.0',\n",
       " 'PUlocationID=19.0',\n",
       " 'PUlocationID=190.0',\n",
       " 'PUlocationID=191.0',\n",
       " 'PUlocationID=192.0',\n",
       " 'PUlocationID=193.0',\n",
       " 'PUlocationID=194.0',\n",
       " 'PUlocationID=195.0',\n",
       " 'PUlocationID=196.0',\n",
       " 'PUlocationID=197.0',\n",
       " 'PUlocationID=198.0',\n",
       " 'PUlocationID=2.0',\n",
       " 'PUlocationID=20.0',\n",
       " 'PUlocationID=200.0',\n",
       " 'PUlocationID=201.0',\n",
       " 'PUlocationID=202.0',\n",
       " 'PUlocationID=203.0',\n",
       " 'PUlocationID=204.0',\n",
       " 'PUlocationID=205.0',\n",
       " 'PUlocationID=206.0',\n",
       " 'PUlocationID=207.0',\n",
       " 'PUlocationID=208.0',\n",
       " 'PUlocationID=209.0',\n",
       " 'PUlocationID=21.0',\n",
       " 'PUlocationID=210.0',\n",
       " 'PUlocationID=211.0',\n",
       " 'PUlocationID=212.0',\n",
       " 'PUlocationID=213.0',\n",
       " 'PUlocationID=214.0',\n",
       " 'PUlocationID=215.0',\n",
       " 'PUlocationID=216.0',\n",
       " 'PUlocationID=217.0',\n",
       " 'PUlocationID=218.0',\n",
       " 'PUlocationID=219.0',\n",
       " 'PUlocationID=22.0',\n",
       " 'PUlocationID=220.0',\n",
       " 'PUlocationID=221.0',\n",
       " 'PUlocationID=222.0',\n",
       " 'PUlocationID=223.0',\n",
       " 'PUlocationID=224.0',\n",
       " 'PUlocationID=225.0',\n",
       " 'PUlocationID=226.0',\n",
       " 'PUlocationID=227.0',\n",
       " 'PUlocationID=228.0',\n",
       " 'PUlocationID=229.0',\n",
       " 'PUlocationID=23.0',\n",
       " 'PUlocationID=230.0',\n",
       " 'PUlocationID=231.0',\n",
       " 'PUlocationID=232.0',\n",
       " 'PUlocationID=233.0',\n",
       " 'PUlocationID=234.0',\n",
       " 'PUlocationID=235.0',\n",
       " 'PUlocationID=236.0',\n",
       " 'PUlocationID=237.0',\n",
       " 'PUlocationID=238.0',\n",
       " 'PUlocationID=239.0',\n",
       " 'PUlocationID=24.0',\n",
       " 'PUlocationID=240.0',\n",
       " 'PUlocationID=241.0',\n",
       " 'PUlocationID=242.0',\n",
       " 'PUlocationID=243.0',\n",
       " 'PUlocationID=244.0',\n",
       " 'PUlocationID=245.0',\n",
       " 'PUlocationID=246.0',\n",
       " 'PUlocationID=247.0',\n",
       " 'PUlocationID=248.0',\n",
       " 'PUlocationID=249.0',\n",
       " 'PUlocationID=25.0',\n",
       " 'PUlocationID=250.0',\n",
       " 'PUlocationID=251.0',\n",
       " 'PUlocationID=252.0',\n",
       " 'PUlocationID=253.0',\n",
       " 'PUlocationID=254.0',\n",
       " 'PUlocationID=255.0',\n",
       " 'PUlocationID=256.0',\n",
       " 'PUlocationID=257.0',\n",
       " 'PUlocationID=258.0',\n",
       " 'PUlocationID=259.0',\n",
       " 'PUlocationID=26.0',\n",
       " 'PUlocationID=260.0',\n",
       " 'PUlocationID=261.0',\n",
       " 'PUlocationID=262.0',\n",
       " 'PUlocationID=263.0',\n",
       " 'PUlocationID=264.0',\n",
       " 'PUlocationID=265.0',\n",
       " 'PUlocationID=27.0',\n",
       " 'PUlocationID=28.0',\n",
       " 'PUlocationID=29.0',\n",
       " 'PUlocationID=3.0',\n",
       " 'PUlocationID=30.0',\n",
       " 'PUlocationID=31.0',\n",
       " 'PUlocationID=32.0',\n",
       " 'PUlocationID=33.0',\n",
       " 'PUlocationID=34.0',\n",
       " 'PUlocationID=35.0',\n",
       " 'PUlocationID=36.0',\n",
       " 'PUlocationID=37.0',\n",
       " 'PUlocationID=38.0',\n",
       " 'PUlocationID=39.0',\n",
       " 'PUlocationID=4.0',\n",
       " 'PUlocationID=40.0',\n",
       " 'PUlocationID=41.0',\n",
       " 'PUlocationID=42.0',\n",
       " 'PUlocationID=43.0',\n",
       " 'PUlocationID=44.0',\n",
       " 'PUlocationID=45.0',\n",
       " 'PUlocationID=46.0',\n",
       " 'PUlocationID=47.0',\n",
       " 'PUlocationID=48.0',\n",
       " 'PUlocationID=49.0',\n",
       " 'PUlocationID=5.0',\n",
       " 'PUlocationID=50.0',\n",
       " 'PUlocationID=51.0',\n",
       " 'PUlocationID=52.0',\n",
       " 'PUlocationID=53.0',\n",
       " 'PUlocationID=54.0',\n",
       " 'PUlocationID=55.0',\n",
       " 'PUlocationID=56.0',\n",
       " 'PUlocationID=57.0',\n",
       " 'PUlocationID=58.0',\n",
       " 'PUlocationID=59.0',\n",
       " 'PUlocationID=6.0',\n",
       " 'PUlocationID=60.0',\n",
       " 'PUlocationID=61.0',\n",
       " 'PUlocationID=62.0',\n",
       " 'PUlocationID=63.0',\n",
       " 'PUlocationID=64.0',\n",
       " 'PUlocationID=65.0',\n",
       " 'PUlocationID=66.0',\n",
       " 'PUlocationID=67.0',\n",
       " 'PUlocationID=68.0',\n",
       " 'PUlocationID=69.0',\n",
       " 'PUlocationID=7.0',\n",
       " 'PUlocationID=70.0',\n",
       " 'PUlocationID=71.0',\n",
       " 'PUlocationID=72.0',\n",
       " 'PUlocationID=73.0',\n",
       " 'PUlocationID=74.0',\n",
       " 'PUlocationID=75.0',\n",
       " 'PUlocationID=76.0',\n",
       " 'PUlocationID=77.0',\n",
       " 'PUlocationID=78.0',\n",
       " 'PUlocationID=79.0',\n",
       " 'PUlocationID=8.0',\n",
       " 'PUlocationID=80.0',\n",
       " 'PUlocationID=81.0',\n",
       " 'PUlocationID=82.0',\n",
       " 'PUlocationID=83.0',\n",
       " 'PUlocationID=84.0',\n",
       " 'PUlocationID=85.0',\n",
       " 'PUlocationID=86.0',\n",
       " 'PUlocationID=87.0',\n",
       " 'PUlocationID=88.0',\n",
       " 'PUlocationID=89.0',\n",
       " 'PUlocationID=9.0',\n",
       " 'PUlocationID=90.0',\n",
       " 'PUlocationID=91.0',\n",
       " 'PUlocationID=92.0',\n",
       " 'PUlocationID=93.0',\n",
       " 'PUlocationID=94.0',\n",
       " 'PUlocationID=95.0',\n",
       " 'PUlocationID=96.0',\n",
       " 'PUlocationID=97.0',\n",
       " 'PUlocationID=98.0',\n",
       " 'PUlocationID=99.0']"
      ]
     },
     "execution_count": 27,
     "metadata": {},
     "output_type": "execute_result"
    }
   ],
   "source": [
    "dv.feature_names_"
   ]
  },
  {
   "cell_type": "code",
   "execution_count": 28,
   "id": "e7287773",
   "metadata": {},
   "outputs": [
    {
     "data": {
      "text/plain": [
       "525"
      ]
     },
     "execution_count": 28,
     "metadata": {},
     "output_type": "execute_result"
    }
   ],
   "source": [
    "len(dv.feature_names_)"
   ]
  },
  {
   "cell_type": "markdown",
   "id": "0ea8a6e8",
   "metadata": {},
   "source": [
    "**Answer:** We have 525 features."
   ]
  },
  {
   "cell_type": "markdown",
   "id": "7c2921aa",
   "metadata": {},
   "source": [
    "# Q5. Training a model\n",
    "Now let's use the feature matrix from the previous step to train a model.\n",
    "\n",
    "* Train a plain linear regression model with default parameters\n",
    "* Calculate the RMSE of the model on the training data\n",
    "What's the RMSE on train?"
   ]
  },
  {
   "cell_type": "code",
   "execution_count": 29,
   "id": "8ad47605",
   "metadata": {},
   "outputs": [],
   "source": [
    "target = 'duration'\n",
    "y_train = df_01[target].values\n",
    "y_val = df_02[target].values"
   ]
  },
  {
   "cell_type": "code",
   "execution_count": 30,
   "id": "9e1b041e",
   "metadata": {},
   "outputs": [
    {
     "data": {
      "text/plain": [
       "10.5285191072072"
      ]
     },
     "execution_count": 30,
     "metadata": {},
     "output_type": "execute_result"
    }
   ],
   "source": [
    "lr = LinearRegression()\n",
    "lr.fit(X_train, y_train)\n",
    "\n",
    "y_pred = lr.predict(X_train)\n",
    "\n",
    "mean_squared_error(y_train, y_pred, squared=False)"
   ]
  },
  {
   "cell_type": "markdown",
   "id": "5fa4ee5a",
   "metadata": {},
   "source": [
    "# Q6. Evaluating the model\n",
    "Now let's apply this model to the validation dataset (Feb 2021).\n",
    "\n",
    "What's the RMSE on validation?"
   ]
  },
  {
   "cell_type": "code",
   "execution_count": 31,
   "id": "804bf5f7",
   "metadata": {},
   "outputs": [
    {
     "data": {
      "text/plain": [
       "12.855086716472458"
      ]
     },
     "execution_count": 31,
     "metadata": {},
     "output_type": "execute_result"
    }
   ],
   "source": [
    "y_pred = lr.predict(X_val)\n",
    "\n",
    "mean_squared_error(y_val, y_pred, squared=False)"
   ]
  },
  {
   "cell_type": "code",
   "execution_count": null,
   "id": "047276dc",
   "metadata": {},
   "outputs": [],
   "source": []
  }
 ],
 "metadata": {
  "kernelspec": {
   "display_name": "Python 3",
   "language": "python",
   "name": "python3"
  },
  "language_info": {
   "codemirror_mode": {
    "name": "ipython",
    "version": 3
   },
   "file_extension": ".py",
   "mimetype": "text/x-python",
   "name": "python",
   "nbconvert_exporter": "python",
   "pygments_lexer": "ipython3",
   "version": "3.9.7"
  }
 },
 "nbformat": 4,
 "nbformat_minor": 5
}
