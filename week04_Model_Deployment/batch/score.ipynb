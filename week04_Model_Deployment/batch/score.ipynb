{
 "cells": [
  {
   "cell_type": "code",
   "execution_count": 1,
   "id": "dbb36fd0",
   "metadata": {},
   "outputs": [],
   "source": [
    "import os\n",
    "import pickle\n",
    "import uuid\n",
    "\n",
    "import pandas as pd\n",
    "import mlflow\n",
    "from sklearn.feature_extraction import DictVectorizer\n",
    "from sklearn.ensemble import RandomForestRegressor\n",
    "from sklearn.metrics import mean_squared_error\n",
    "from sklearn.pipeline import make_pipeline"
   ]
  },
  {
   "cell_type": "code",
   "execution_count": 2,
   "id": "ddd06554",
   "metadata": {},
   "outputs": [],
   "source": [
    "year = 2021\n",
    "month = 3\n",
    "\n",
    "#input_file = '../../data/green_tripdata_2021-01.parquet'\n",
    "input_file = f'https://s3.amazonaws.com/nyc-tlc/trip+data/green_tripdata_{year:04}-{month:02d}.parquet'\n",
    "output_file = f'../../output/green_tripdata_{year:04}-{month:02d}.parquet'"
   ]
  },
  {
   "cell_type": "code",
   "execution_count": 3,
   "id": "9360dcf4",
   "metadata": {},
   "outputs": [],
   "source": [
    "#import mlflow\n",
    "#mlflow.set_tracking_uri(\"sqlite:///mlruns.db\")\n",
    "#mlflow.set_experiment(\"green-taxi-duration\")\n",
    "#def read_dataframe(filename: str):\n",
    "#    df = pd.read_parquet(filename)\n",
    "#\n",
    "#    df['duration'] = df.lpep_dropoff_datetime - df.lpep_pickup_datetime\n",
    "#    df.duration = df.duration.dt.total_seconds() /60\n",
    "#    df = df[(df.duration >= 1) & (df.duration <= 60)]#\n",
    "#\n",
    "#    categorical = ['PULocationID', 'DOLocationID']\n",
    "#    df[categorical] = df[categorical].astype(str)\n",
    "#    return df\n",
    "\n",
    "\n",
    "#def prepare_dictionaries(df: pd.DataFrame):\n",
    "#    df['PU_DO'] = df['PULocationID'] + '_' + df['DOLocationID']\n",
    "#    categorical = ['PU_DO']\n",
    "#    numerical = ['trip_distance']\n",
    "#    dicts = df[categorical + numerical].to_dict(orient='records')\n",
    "#    return dicts\n",
    "\n",
    "#df_train = read_dataframe('../../data/green_tripdata_2021-01.parquet')\n",
    "#df_val = read_dataframe('../../data/green_tripdata_2021-02.parquet')\n",
    "\n",
    "#target = 'duration'\n",
    "#y_train = df_train[target].values\n",
    "#y_val = df_val[target].values\n",
    "\n",
    "#dict_train = prepare_dictionaries(df_train)\n",
    "#dict_val = prepare_dictionaries(df_val)\n",
    "\n",
    "#with mlflow.start_run():\n",
    "#    params = dict(max_depth=20, n_estimators=100, min_samples_leaf=10, random_state=0)\n",
    "#    mlflow.log_params(params)\n",
    "\n",
    "#    pipeline = make_pipeline(\n",
    "#        DictVectorizer(),\n",
    "#        RandomForestRegressor(**params, n_jobs=-1)\n",
    "#    )\n",
    "\n",
    "#    dv = DictVectorizer()\n",
    "#    dv.fit(dict_train)\n",
    "#    pipeline.fit(dict_train, y_train)\n",
    "#    y_pred = pipeline.predict(dict_val)\n",
    "\n",
    "#    rmse = mean_squared_error(y_pred, y_val, squared=False)\n",
    "#    print(params, rmse)\n",
    "#    mlflow.log_metric('rmse', rmse)\n",
    "    \n",
    "#    mlflow.sklearn.log_model(pipeline, artifact_path=\"model\")"
   ]
  },
  {
   "cell_type": "code",
   "execution_count": 4,
   "id": "9fc41012",
   "metadata": {},
   "outputs": [],
   "source": [
    "MLFLOW_TRACKING_URI = 'sqlite:///mlruns.db'\n",
    "mlflow.set_tracking_uri(MLFLOW_TRACKING_URI)\n",
    "#RUN_ID = os.getenv('RUN_ID', 'e60b4352b7134f679cb04d95288a24c0')\n",
    "#RUN_ID = 'e60b4352b7134f679cb04d95288a24c0'\n",
    "RUN_ID = '54c0663c677e417f8900b51ed7985878'\n",
    "\n",
    "\n"
   ]
  },
  {
   "cell_type": "code",
   "execution_count": 8,
   "id": "9e81bc62",
   "metadata": {},
   "outputs": [],
   "source": [
    "# create unique ids\n",
    "def generate_uuids(n):\n",
    "    ride_ids = []\n",
    "    for i in range(n):\n",
    "        ride_ids.append(str(uuid.uuid4()))\n",
    "    return ride_ids\n",
    "    \n",
    "def read_dataframe(filename: str):\n",
    "    df = pd.read_parquet(filename)\n",
    "\n",
    "    df['duration'] = df.lpep_dropoff_datetime - df.lpep_pickup_datetime\n",
    "    df.duration = df.duration.dt.total_seconds() /60\n",
    "    df = df[(df.duration >= 1) & (df.duration <= 60)]\n",
    "    df['ride_id'] = generate_uuids(len(df))\n",
    "\n",
    "    categorical = ['PULocationID', 'DOLocationID']\n",
    "    df[categorical] = df[categorical].astype(str)\n",
    "    return df\n",
    "\n",
    "\n",
    "def prepare_dictionaries(df: pd.DataFrame):\n",
    "    df['PU_DO'] = df['PULocationID'] + '_' + df['DOLocationID']\n",
    "    categorical = ['PU_DO']\n",
    "    numerical = ['trip_distance']\n",
    "    dicts = df[categorical + numerical].to_dict(orient='records')\n",
    "    return dicts"
   ]
  },
  {
   "cell_type": "code",
   "execution_count": 15,
   "id": "13e3d5b9",
   "metadata": {},
   "outputs": [],
   "source": [
    "def load_model(run_id):\n",
    "    logged_model = f'runs:/{RUN_ID}/model'\n",
    "    model = mlflow.pyfunc.load_model(logged_model)\n",
    "    return model\n",
    "\n",
    "def apply_model(input_file, run_id, output_file):\n",
    "    df = read_dataframe(input_file)\n",
    "    dicts = prepare_dictionaries(df)\n",
    "    \n",
    "    model = load_model(run_id)\n",
    "    y_pred = model.predict(dicts)\n",
    "    \n",
    "    df_result = pd.DataFrame()\n",
    "    \n",
    "    df_result['ride_id'] = df['ride_id']\n",
    "    df_result['lpep_pickup_datetime'] = df['lpep_pickup_datetime']\n",
    "    df_result['PULocationID'] = df['PULocationID']\n",
    "    df_result['DOLocationID'] = df['DOLocationID']\n",
    "    df_result['actual_duration'] = df['duration']\n",
    "    df_result['predicted_duration'] = y_pred\n",
    "    df_result['diff'] = df_result['actual_duration'] - df_result['predicted_duration']\n",
    "    df_result['model_version'] = run_id\n",
    "    \n",
    "    df_result.to_parquet(output_file, index=False)"
   ]
  },
  {
   "cell_type": "code",
   "execution_count": 16,
   "id": "dd0d9fd7",
   "metadata": {},
   "outputs": [],
   "source": [
    "apply_model(input_file=input_file, run_id=RUN_ID, output_file=output_file)"
   ]
  },
  {
   "cell_type": "code",
   "execution_count": 18,
   "id": "a0ef6e34",
   "metadata": {},
   "outputs": [
    {
     "name": "stdout",
     "output_type": "stream",
     "text": [
      "green_tripdata_2021-01.parquet\tgreen_tripdata_2021-03.parquet\r\n"
     ]
    }
   ],
   "source": [
    "!ls ../../output"
   ]
  },
  {
   "cell_type": "code",
   "execution_count": null,
   "id": "08a6a57f",
   "metadata": {},
   "outputs": [],
   "source": []
  }
 ],
 "metadata": {
  "kernelspec": {
   "display_name": "Python 3",
   "language": "python",
   "name": "python3"
  },
  "language_info": {
   "codemirror_mode": {
    "name": "ipython",
    "version": 3
   },
   "file_extension": ".py",
   "mimetype": "text/x-python",
   "name": "python",
   "nbconvert_exporter": "python",
   "pygments_lexer": "ipython3",
   "version": "3.9.7"
  }
 },
 "nbformat": 4,
 "nbformat_minor": 5
}
