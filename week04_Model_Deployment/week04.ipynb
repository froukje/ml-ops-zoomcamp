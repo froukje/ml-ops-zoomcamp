{
 "cells": [
  {
   "cell_type": "markdown",
   "id": "a204b164",
   "metadata": {},
   "source": [
    "# Model Deployment\n",
    "\n",
    "![screenshot01](Screenshot_01.png)\n",
    "\n",
    "* Until now, we have been working on the first (Design) and the second (Training) step\n",
    "* When it comes to model deployment, we hava multiple options.\n",
    "* Do we need the predictions immediately? Or can it wait a bit?\n",
    "    * If we can wait, we apply the model regularly; this in the so called *Batch Mode* or *Offline Mode*\n",
    "    * If we need the predictions immediately, we run the model in the so called *Online Mode. In this case we have two options to make the model available:\n",
    "       1. Through a webservice\n",
    "       2. Through streaming"
   ]
  },
  {
   "cell_type": "markdown",
   "id": "f01b1fdb",
   "metadata": {},
   "source": [
    "## Batch Mode\n",
    "\n",
    "* Apply the model regularly, e.g. every 10 minutes, every day, etc.\n",
    "* Often used for marketing related tasks\n",
    "![batch_mode](batch_mode.png)"
   ]
  },
  {
   "cell_type": "markdown",
   "id": "97b6b13f",
   "metadata": {},
   "source": [
    "## Web Services\n",
    "* Common way of deploying models\n",
    "![webservice](webservice.png)"
   ]
  },
  {
   "cell_type": "markdown",
   "id": "ec6bbdae",
   "metadata": {},
   "source": [
    "## Streaming\n",
    "* In contrast to a web service multiple consumers can use the streaming output\n",
    "![streaming](streaming.png)\n",
    "* Example: \n",
    "    * Uploading of a Video \n",
    "    * is tested by different services (e.g. violence, copyright, ...) \n",
    "    * these services send their predictions to a decision service if the video can be uploaded"
   ]
  },
  {
   "cell_type": "code",
   "execution_count": null,
   "id": "a392d748",
   "metadata": {},
   "outputs": [],
   "source": []
  }
 ],
 "metadata": {
  "kernelspec": {
   "display_name": "Python 3",
   "language": "python",
   "name": "python3"
  },
  "language_info": {
   "codemirror_mode": {
    "name": "ipython",
    "version": 3
   },
   "file_extension": ".py",
   "mimetype": "text/x-python",
   "name": "python",
   "nbconvert_exporter": "python",
   "pygments_lexer": "ipython3",
   "version": "3.9.7"
  }
 },
 "nbformat": 4,
 "nbformat_minor": 5
}
