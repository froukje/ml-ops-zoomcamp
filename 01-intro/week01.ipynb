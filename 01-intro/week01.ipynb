{
 "cells": [
  {
   "cell_type": "markdown",
   "id": "f56890e8",
   "metadata": {},
   "source": [
    "# Week 1\n",
    "\n",
    "Divide the ML project in 3 stages:\n",
    "\n",
    "**Design** - **Train** - **Operate**\n",
    "\n",
    "ML-Obs helps us at all the three stages - it gives us a set of practices for automating everything"
   ]
  },
  {
   "cell_type": "markdown",
   "id": "315d5e56",
   "metadata": {},
   "source": [
    "* In the notebook week01_model we trained a model taxi data \n",
    "* We tried different models and different hyperparamters\n",
    "* However, these experiments are not saved, we don't have a history of our results\n",
    "* We can save that mannually (e.g. with a spread sheet)\n",
    "* A better way to do this is to log the experiments\n",
    "* We will use ML-Flow to do this\n",
    "* Another problem with notebooks is that sometimes the cells have to be executed in a specific order\n",
    "* We will use pipelines to overcome this problem\n",
    "    * Prefect, Kubeflow pipelines\n",
    "* We will discuss how we can serve our model to the users\n",
    "* In order to make sure that the model keeps performing well, we need to add monitoring"
   ]
  },
  {
   "cell_type": "markdown",
   "id": "f3090a19",
   "metadata": {},
   "source": [
    "![pipline](pipeline.png)"
   ]
  },
  {
   "cell_type": "markdown",
   "id": "3006211d",
   "metadata": {},
   "source": [
    "## Maturity\n",
    "Maturity describes the level of automatisation\n",
    "0. no MLOps at all\n",
    "1. DevOps, but no MLOps\n",
    "    * Releases are automated\n",
    "    * Unit tests\n",
    "    * Integration tests\n",
    "    * CI/CD\n",
    "    * Ops metrics\n",
    "    * Follow best practices from software engineering, but not ML specific \n",
    "    * No experiment tracking\n",
    "    * No reproducibaility\n",
    "    * Data Scientists separated from the engineering team\n",
    "2. Automated Training\n",
    "    * Training pipeline\n",
    "    * Experiment tracking\n",
    "    * Model registry\n",
    "    * Low friction deployment\n",
    "    * Data Scientists work with engineers\n",
    "3. Automated deployment\n",
    "    * Easy to delay a model\n",
    "    * A/B tests (e.g. test two versions of a model on a website. Answer some requests with model 1 and others with model 2 and then compare)\n",
    "    * Model monitoring \n",
    "    4. Full MLOps Automation\n",
    "         "
   ]
  },
  {
   "cell_type": "code",
   "execution_count": null,
   "id": "b6746553",
   "metadata": {},
   "outputs": [],
   "source": []
  }
 ],
 "metadata": {
  "kernelspec": {
   "display_name": "Python 3",
   "language": "python",
   "name": "python3"
  },
  "language_info": {
   "codemirror_mode": {
    "name": "ipython",
    "version": 3
   },
   "file_extension": ".py",
   "mimetype": "text/x-python",
   "name": "python",
   "nbconvert_exporter": "python",
   "pygments_lexer": "ipython3",
   "version": "3.9.7"
  }
 },
 "nbformat": 4,
 "nbformat_minor": 5
}
