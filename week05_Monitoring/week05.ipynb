{
 "cells": [
  {
   "cell_type": "markdown",
   "id": "f52b959b",
   "metadata": {},
   "source": [
    "# How to monitor ML Models in Production"
   ]
  },
  {
   "cell_type": "markdown",
   "id": "1f449476",
   "metadata": {},
   "source": [
    "* The model quality during production may be effected by the changes in the input data (e.g data processing isuues, problems with the data source, ...)\n",
    "* The model in production is constantly receiving new data. However, this data might have a different probability distribution than the one you have trained the model. Using the original model with the new data distribution will cause a drop in model performance.\n",
    "\n",
    "**Data Drift**\n",
    "\n",
    "Data drift is the situation where the model’s input distribution changes.\n",
    "\n",
    "$Pt1 (X) ≠ Pt2 (X)$\n",
    "\n",
    "**Concept Drift**\n",
    "\n",
    "To know what concept drift is, we need a definition of “concept”. Concept stands for the joint probability distribution of a machine learning model’s inputs (X) and outputs (Y). We can express their relationship in the following form:\n",
    "\n",
    "$P(X, Y) = P(Y) P(X|Y) = P(X) P(Y|X)$\n",
    "\n",
    "Concept shift happens when the joint distribution of inputs and outputs changes:\n",
    "\n",
    "$Pt1 (X, Y) ≠ Pt2 (X, Y)$\n",
    "\n",
    "Concept drift can originate from any of the concept components. The most important source is the posterior class probability $P(Y|X)$ , as it shows how well our model understands the relationship between inputs and outputs. For this reason, people use the term “concept drift” or “real concept drift” for this specific type.\n",
    "\n",
    "\n",
    "More details: https://deepchecks.com/data-drift-vs-concept-drift-what-are-the-main-differences/\n",
    "\n",
    "When this happens we have to intervene, e.g. retrain the model, fallback to some robust system, ..."
   ]
  },
  {
   "cell_type": "markdown",
   "id": "34758b77",
   "metadata": {},
   "source": [
    "![things to monitor](monitoring_01.png)"
   ]
  },
  {
   "cell_type": "markdown",
   "id": "c1f09ff7",
   "metadata": {},
   "source": [
    "### Batch vs. Online serving Models\n",
    "**Online**\n",
    "* Online monitoring\n",
    "* If no real-time update of the model is necessary, batch monitoring may be used for online mode aswell\n",
    "\n",
    "**Batch**\n",
    "* Batch monitoring\n",
    "* Most ML models in production operate in batch mode, i.e. the pipeline my use prefect or airflow\n",
    "* You may add a block of calculations after specific step of the pipeline and run some checks if the data and model behaves as expected. I.g. calculate some metrics, save them into a database and visualize them"
   ]
  },
  {
   "cell_type": "markdown",
   "id": "343304a9",
   "metadata": {},
   "source": [
    "This is what we want to implement:"
   ]
  },
  {
   "cell_type": "markdown",
   "id": "f1982720",
   "metadata": {},
   "source": [
    "![pipeline](monitoring_02.png)"
   ]
  },
  {
   "cell_type": "markdown",
   "id": "5836e6e9",
   "metadata": {},
   "source": [
    "We will continue with the New York taxi ride example. \n",
    "\n",
    "We will use MongoDB for logging\n",
    "* MongoDB is a NoSQL database, we can push our data that may have different number of fields\n",
    "* Our data is in json format (unstructured)\n",
    "* In order to push our data to MongoDB, we need to connect to Host, create a database, create a collection and push our data there\n",
    "\n",
    "We need to implement online monitoring\n",
    "* we need to send our data from the prediction service to the monitoring service\n",
    "* This calculates the metrics and saves them into a Prometheus database\n",
    "* The Prometheus database shares the data with the Grafana service\n",
    "* Both prometeus and Grafana are open source"
   ]
  },
  {
   "cell_type": "markdown",
   "id": "d13060cb",
   "metadata": {},
   "source": [
    "We can the additionally include batch monitoring\n",
    "![batch monitoring](monitoring_03.png)"
   ]
  },
  {
   "cell_type": "markdown",
   "id": "c297a67a",
   "metadata": {},
   "source": [
    "* Include a prefect flow, that collects data from MongoDB and calculates metrics\n",
    "* From that we can create a visual report in html"
   ]
  },
  {
   "cell_type": "markdown",
   "id": "ee767436",
   "metadata": {},
   "source": [
    "We will use docker to combine all this!"
   ]
  },
  {
   "cell_type": "markdown",
   "id": "8a8da020",
   "metadata": {},
   "source": [
    "### Example: New York Taxi data\n",
    "* Our example (```predict_flask.py```) uses Flask to integrate the service\n",
    "* The prediction is returned in a json script\n",
    "* Update this service with two more instructions:\n",
    "    * logging\n",
    "    * send data to monitoring service\n",
    "* We call the new file ```app.py``` and save it in ```prediction_service```"
   ]
  },
  {
   "cell_type": "code",
   "execution_count": null,
   "id": "55ab22c1",
   "metadata": {},
   "outputs": [],
   "source": []
  }
 ],
 "metadata": {
  "kernelspec": {
   "display_name": "Python 3",
   "language": "python",
   "name": "python3"
  },
  "language_info": {
   "codemirror_mode": {
    "name": "ipython",
    "version": 3
   },
   "file_extension": ".py",
   "mimetype": "text/x-python",
   "name": "python",
   "nbconvert_exporter": "python",
   "pygments_lexer": "ipython3",
   "version": "3.9.7"
  }
 },
 "nbformat": 4,
 "nbformat_minor": 5
}
