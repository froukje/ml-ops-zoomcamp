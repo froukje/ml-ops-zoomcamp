{
 "cells": [
  {
   "cell_type": "markdown",
   "id": "1898b335",
   "metadata": {},
   "source": [
    "# Best Practices\n",
    "\n",
    " Build on the Lambda/kinetis example from module 4\n",
    " * add tests to the code (unit tests, integration tests), we will use the library ```pytest``` for that\n",
    " * ```pipenv install --dev pytest```, it is only needed for development\n",
    " * For working in Visual Studio:\n",
    "     * Select Python Interpreter > View > Command Pallete > \"Select: Python Interpreter\"\n",
    "     * Go in terminal to the current folder and type ```pipenv --venv``` to get the python environment of the virtual environment (```<path>/.local/share/virtualenvs/code-AxO42iuz```\n",
    "     * Copy the name ```<path>/.local/share/virtualenvs/code-AxO42iuz/bin/python``` to the Command Pallete and choose this interpreter\n",
    "     * We then get a new icon on the left hand side for testing\n",
    "     * Add the test path ```<path>/.local/share/virtualenvs/code-AxO42iuz/bin/pytest``` through \"configure tests\"\n",
    " * **Unit tests** only test small units/fractions of the code, **Integration tests**, test the entire code"
   ]
  },
  {
   "cell_type": "markdown",
   "id": "0584c874",
   "metadata": {},
   "source": [
    "## Unit Tests\n",
    "* Create a first test\n",
    "    * In the test folder, we need to creat a file ```__init__.py```, so that python knows that this is a python package\n",
    "    * create a file ```model_test.py``` and ```model.py```\n",
    "    * Test it using docker, we need to add the new created ```model.py``` script to te docker file: ```bash docker build -t stream-model-duration:v2 .```\n",
    "    * \n",
    "```\n",
    "docker run -it --rm \\\n",
    "    -p 8080:8080 \\\n",
    "    -e PREDICTIONS_STREAM_NAME=\"ride_prediction\" \\\n",
    "    -e TEST_RUN=\"True\" \\\n",
    "    -e AWS_DEFAULT_REGION=\"eu-west-1\" \\\n",
    "    stream-model-duration:v2\n",
    "    ```\n",
    "    "
   ]
  },
  {
   "cell_type": "markdown",
   "id": "d5957a81",
   "metadata": {},
   "source": [
    "* To run the tests from the terminal: go to folder ```code```, start virtual env: ```pipenv shell```, then run ```pipenv run pytest tests/``` "
   ]
  },
  {
   "cell_type": "code",
   "execution_count": null,
   "id": "ea001a32",
   "metadata": {},
   "outputs": [],
   "source": []
  }
 ],
 "metadata": {
  "kernelspec": {
   "display_name": "ml-zoomcamp",
   "language": "python",
   "name": "ml-zoomcamp"
  },
  "language_info": {
   "codemirror_mode": {
    "name": "ipython",
    "version": 3
   },
   "file_extension": ".py",
   "mimetype": "text/x-python",
   "name": "python",
   "nbconvert_exporter": "python",
   "pygments_lexer": "ipython3",
   "version": "3.9.7"
  }
 },
 "nbformat": 4,
 "nbformat_minor": 5
}
