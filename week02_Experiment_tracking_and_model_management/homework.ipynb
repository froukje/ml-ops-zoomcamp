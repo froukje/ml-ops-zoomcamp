{
 "cells": [
  {
   "cell_type": "markdown",
   "id": "a2a7ed6d",
   "metadata": {},
   "source": [
    "# Homework\n",
    "The goal of this homework is to get familiar with MLflow."
   ]
  },
  {
   "cell_type": "markdown",
   "id": "ae0d935e",
   "metadata": {},
   "source": [
    "# Q1. Install MLflow\n",
    "To get started with MLflow you'll need to install the MLflow Python package.\n",
    "\n",
    "For this we recommend creating a separate Python environment, for example, you can use conda environments, and then install the package there with pip or conda.\n",
    "\n",
    "Once you installed the package, run the command mlflow --version and check the output.\n",
    "\n",
    "What's the version that you have?"
   ]
  },
  {
   "cell_type": "code",
   "execution_count": 1,
   "id": "25ab48a4",
   "metadata": {},
   "outputs": [],
   "source": [
    "import mlflow"
   ]
  },
  {
   "cell_type": "code",
   "execution_count": 2,
   "id": "b2b1c8ec",
   "metadata": {},
   "outputs": [
    {
     "data": {
      "text/plain": [
       "'1.26.0'"
      ]
     },
     "execution_count": 2,
     "metadata": {},
     "output_type": "execute_result"
    }
   ],
   "source": [
    "mlflow.__version__"
   ]
  },
  {
   "cell_type": "markdown",
   "id": "fb1c558b",
   "metadata": {},
   "source": [
    "**Answer:** I have version 1.26.0"
   ]
  },
  {
   "cell_type": "markdown",
   "id": "6f650c13",
   "metadata": {},
   "source": [
    "# Q2. Download and preprocess the data\n",
    "\n",
    "We'll use the same dataset used in the videos of the 1st and 2nd module: \"Green Taxi Trip Records\".\n",
    "\n",
    "Download the data for January, February and March 2021 in parquet format from [here](https://www1.nyc.gov/site/tlc/about/tlc-trip-record-data.page).\n",
    "\n",
    "Use the script ```preprocess_data.py``` located in the folder homework to preprocess the data.\n",
    "\n",
    "The script will\n",
    "\n",
    "* load the data from the folder <TAXI_DATA_FOLDER> (the folder where you have downloaded the data),\n",
    "* fit a DictVectorizer on the training set (January 2021 data),\n",
    "* save the preprocessed datasets and the model to disk\n",
    "\n",
    "Your task is to download the datasets and then execute this command:\n",
    "```python preprocess_data.py --raw_data_path <TAXI_DATA_FOLDER> --dest_path ./output```"
   ]
  },
  {
   "cell_type": "markdown",
   "id": "f857c981",
   "metadata": {},
   "source": [
    "Tip: go to 02-experiment-tracking/homework/ folder before executing the command and change the value of <TAXI_DATA_FOLDER> to the location where you saved the data.\n",
    "\n",
    "How many files were saved to OUTPUT_FOLDER?\n",
    "\n",
    "* 1\n",
    "* 3\n",
    "* 4\n",
    "* 7"
   ]
  },
  {
   "cell_type": "markdown",
   "id": "1a440d71",
   "metadata": {},
   "source": [
    "**Answer:** 4 files were saved: ```dv.pkl```, ```test.pkl```, ```train.pkl```, ```valid.pkl```"
   ]
  },
  {
   "cell_type": "markdown",
   "id": "a2a1896e",
   "metadata": {},
   "source": [
    "# Q3. Train a model with autolog\n",
    "We will train a random forest regressor on the taxi dataset.\n",
    "\n",
    "We have prepared the training script train.py for this exercise, which can be also found in the folder homework. The script will load the datasets produced by the previous step, train the model on the training set and finally calculate the RMSE on the validation set.\n",
    "\n",
    "Your task is to modify the script to enable autologging with MLflow, execute the script and then launch the MLflow UI to check that the experiment run was properly tracked.\n",
    "\n",
    "Tip 1: don't forget to wrap the training code with a with mlflow.start_run(): statement as we showed in the videos.\n",
    "\n",
    "Tip 2: don't modify the hyperparameters of the model to make sure that the training will finish quickly.\n",
    "\n",
    "How many parameters are automatically logged by MLflow?\n",
    "\n",
    "* 19\n",
    "* 17\n",
    "* 10\n",
    "* 20"
   ]
  },
  {
   "cell_type": "markdown",
   "id": "fa036bfd",
   "metadata": {},
   "source": [
    "Answer: The modified script is [train.py](train.py) . 17 parameters are automatically tracked.\n",
    "![mlruns.db](mlruns_db.png)"
   ]
  },
  {
   "cell_type": "markdown",
   "id": "2ddf6963",
   "metadata": {},
   "source": [
    "Check the web ui using ```mlflow ui --backend-store-uri sqlite:///mlruns.db```"
   ]
  },
  {
   "cell_type": "markdown",
   "id": "4ec078db",
   "metadata": {},
   "source": [
    "![webui](webui.png)"
   ]
  },
  {
   "cell_type": "markdown",
   "id": "a977ab8f",
   "metadata": {},
   "source": [
    "# Q4. Launch the tracking server locally\n",
    "We want to manage the entire lifecycle of our ML model. In this step, you'll need to launch a tracking server. This way we will also have access to the model registry.\n",
    "\n",
    "Your task is to\n",
    "\n",
    "* launch the tracking server on your local machine\n",
    "* select a SQLite db for the backend store and a folder called ```artifacts``` for the artifacts store\n",
    "* You should keep the tracking server running to work on the next two exercises that use the server.\n",
    "\n",
    "In addition to backend-store-uri, what else do you need to pass to properly configure the server?\n",
    "\n",
    "* ```default-artifact-root```\n",
    "* ```serve-artifacts```\n",
    "* ```artifacts-only```\n",
    "* ```artifacts-destination```"
   ]
  },
  {
   "cell_type": "markdown",
   "id": "0926db93",
   "metadata": {},
   "source": [
    "**Answer:** ```default-artifact-root```, the complete comand ist: ```mlflow server --backend-store-uri sqlite:///mlruns.db --default-artifact-root artifacts -p 8091```\n"
   ]
  },
  {
   "cell_type": "markdown",
   "id": "1d09678b",
   "metadata": {},
   "source": [
    "# Q5. Tune the hyperparameters of the model\n",
    "Now let's try to reduce the validation error by tuning the hyperparameters of the random forest regressor using hyperopt.\n",
    "\n",
    "We have prepared the script hpo.py for this exercise.\n",
    "\n",
    "Your task is to modify the script hpo.py and make sure that the validation RMSE is logged to MLflow for each run of the hyperparameter optimization (you will need to add a few lines of code to the objective function) and run the script without passing any parameters.\n",
    "\n",
    "After that, open the MLflow UI and explore the runs from the experiment called random-forest-hyperopt to answer the question below.\n",
    "\n",
    "Important: don't use autologging for this exercise.\n",
    "\n",
    "The idea is to just log the information that you need to answer the question below, including:\n",
    "\n",
    "* the list of hyperparameters that are passed to the objective function during the optimization.\n",
    "* the RMSE obtained on the validation set (February 2021 data).\n",
    "\n",
    "What's the best validation RMSE that you got?\n",
    "\n",
    "* 6.128\n",
    "* 6.628\n",
    "* 7.128\n",
    "* 7.628"
   ]
  },
  {
   "cell_type": "markdown",
   "id": "9075e0d0",
   "metadata": {},
   "source": [
    "**Answer:** The modified script can be found here: [hpo.py](hpo.py). The best validation RMSE obtained is 6.628\n",
    "\n",
    "![rmse](rmse.png)"
   ]
  },
  {
   "cell_type": "markdown",
   "id": "fddedb4a",
   "metadata": {},
   "source": [
    "# Q6. Promote the best model to the model registry\n",
    "The results from the hyperparameter optimization are quite good so we can assume that we are ready to test some of these models in production. In this exercise, you'll promote the best model to the model registry. We have prepared a script called register_model.py, which will check the results from the previous step and select the top 5 runs. After that, it will calculate the RMSE of those models on the test set (March 2021 data) and save the results to a new experiment called random-forest-best-models.\n",
    "\n",
    "Your task is to update the script register_model.py so that it selects the model with the lowest RMSE on the test set and registers it to the model registry.\n",
    "\n",
    "Tip 1: you can use the method search_runs from the MlflowClient to get the model with the lowest RMSE. Tip 2: to register the model you can use the method mlflow.register_model and you will need to pass the right model_uri in the form of a string that looks like this: \"runs:/<RUN_ID>/model\", and the name of the model (make sure to choose a good one!).\n",
    "\n",
    "What is the test RMSE of the best model?\n",
    "\n",
    "* 6.1\n",
    "* 6.55\n",
    "* 7.93\n",
    "* 15.1\n"
   ]
  },
  {
   "cell_type": "markdown",
   "id": "1edb5f1f",
   "metadata": {},
   "source": [
    "**Answer:** The modified script can be find here: [register_model.py](register_model.py). The test rmse is 6.55.\n",
    "![model_registry](model_registry.png)\n",
    "![model_registry_rmse](rmse_model_registry.png)"
   ]
  },
  {
   "cell_type": "code",
   "execution_count": null,
   "id": "3b1b4a32",
   "metadata": {},
   "outputs": [],
   "source": []
  }
 ],
 "metadata": {
  "kernelspec": {
   "display_name": "Python 3 (ipykernel)",
   "language": "python",
   "name": "python3"
  },
  "language_info": {
   "codemirror_mode": {
    "name": "ipython",
    "version": 3
   },
   "file_extension": ".py",
   "mimetype": "text/x-python",
   "name": "python",
   "nbconvert_exporter": "python",
   "pygments_lexer": "ipython3",
   "version": "3.9.12"
  }
 },
 "nbformat": 4,
 "nbformat_minor": 5
}
