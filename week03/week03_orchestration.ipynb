{
 "cells": [
  {
   "cell_type": "markdown",
   "id": "18fb1d1f",
   "metadata": {},
   "source": [
    "# An Intro to Workflow Orchestration with Prefect\n",
    "* Set of tools, that schedule and monitor the work:\n",
    "    * E.g. Machine Learning Pipeline, that we want to run every week, we put it on a schedule and if it fails we want to be able to see the issues that occured. There are a lot of places where a MAchine Learning Pipeline can fail. \n",
    "    * Workflow orchestration shall help us to deal with these failures.\n",
    "    ![prefect](prefect_01.png)\n",
    "    "
   ]
  },
  {
   "cell_type": "markdown",
   "id": "a8e9b367",
   "metadata": {},
   "source": [
    "## Negative Engineering\n",
    "90% of engineering time is speend on\n",
    "* Retries when APIs go down\n",
    "* Malformed Data\n",
    "* Notifications\n",
    "* Observability into failures\n",
    "* Condictional failure logic\n",
    "* Timeouts\n",
    "\n",
    "Prefect aims to reduce this time!\n",
    "Workflow orchestration is a set of features that help to reduce the time spend onthe above points."
   ]
  },
  {
   "cell_type": "markdown",
   "id": "5a447c73",
   "metadata": {},
   "source": [
    "## Introduction to Prefect\n",
    "Eliminating negative engineering\n",
    "\n",
    "* open source workflow orchestration\n",
    "* Python-based\n",
    "* Modern data stack\n",
    "* Native dask integration\n",
    "* Very active community\n",
    "* Prefect cloud/ Prefect server\n",
    "* Prefect Orion (Prefect 2.0) (currently beta-version available)\n",
    "\n",
    "* Basic example of the usage of Prefect:\n",
    "![prefect](prefect_02.png)"
   ]
  },
  {
   "cell_type": "markdown",
   "id": "4b440f73",
   "metadata": {},
   "source": [
    "**Next step: use the notebook from the previous week and convert it to a script, so that we can deploy it.**\n",
    "* We will use Prefect 2.0 for this tutorial! This needs to be explicitely installed: ```prefect==2.0b5```\n",
    "* Use ```requirements.txt```"
   ]
  },
  {
   "cell_type": "code",
   "execution_count": null,
   "id": "434193f5",
   "metadata": {},
   "outputs": [],
   "source": []
  }
 ],
 "metadata": {
  "kernelspec": {
   "display_name": "ml-zoomcamp",
   "language": "python",
   "name": "ml-zoomcamp"
  },
  "language_info": {
   "codemirror_mode": {
    "name": "ipython",
    "version": 3
   },
   "file_extension": ".py",
   "mimetype": "text/x-python",
   "name": "python",
   "nbconvert_exporter": "python",
   "pygments_lexer": "ipython3",
   "version": "3.9.7"
  }
 },
 "nbformat": 4,
 "nbformat_minor": 5
}
